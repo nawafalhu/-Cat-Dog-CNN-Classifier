{
 "cells": [
  {
   "cell_type": "markdown",
   "id": "32b61a67-a872-4c23-9591-66c9d83dfc40",
   "metadata": {},
   "source": [
    "# Cat or Dag Classifier "
   ]
  },
  {
   "cell_type": "code",
   "execution_count": 1,
   "id": "64184265-930a-469a-bbcc-03b260af3d14",
   "metadata": {},
   "outputs": [],
   "source": [
    "import torch\n",
    "import torch.nn as nn\n",
    "import torch.optim as optim\n",
    "import torchvision\n",
    "from torchvision import datasets, models, transforms\n",
    "from torch.utils.data import DataLoader\n",
    "import torch.nn.functional as F"
   ]
  },
  {
   "cell_type": "code",
   "execution_count": null,
   "id": "e960c11b-64e6-4ed8-95ff-fc7271e28bd3",
   "metadata": {},
   "outputs": [],
   "source": []
  }
 ],
 "metadata": {
  "kernelspec": {
   "display_name": "Python 3 (ipykernel)",
   "language": "python",
   "name": "python3"
  },
  "language_info": {
   "codemirror_mode": {
    "name": "ipython",
    "version": 3
   },
   "file_extension": ".py",
   "mimetype": "text/x-python",
   "name": "python",
   "nbconvert_exporter": "python",
   "pygments_lexer": "ipython3",
   "version": "3.8.19"
  }
 },
 "nbformat": 4,
 "nbformat_minor": 5
}
