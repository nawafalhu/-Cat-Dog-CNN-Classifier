{
 "cells": [
  {
   "cell_type": "markdown",
   "id": "32b61a67-a872-4c23-9591-66c9d83dfc40",
   "metadata": {},
   "source": [
    "# Project - Cat or Dag Classifier\n",
    "# Table of Content\n",
    "<ul>\n",
    "    <li><a href='#Introduction'>Introduction</a></li>\n",
    "    <li><a href='#Dataset'>Dataset</a></li>\n",
    "    <li><a href='#Exploratory'>Exploratory Data Analysis</a></li>\n",
    "    <li><a href='#visualization'>Data visualization</a></li>\n",
    "    <li><a href=\"#conclusions\">Conclusions</a></li>\n",
    "</ul>"
   ]
  },
  {
   "cell_type": "markdown",
   "id": "7d98d73a-d72e-4f55-83fc-5d71ebd11ba3",
   "metadata": {},
   "source": [
    "# Introduction\n",
    "<a id='Introduction'></a>\n",
    "This project focuses on creating a deep learning model that can classify images as either cat or dog. Using a convolutional neural network (CNN), the model is trained to recognize and differentiate between these two animals by learning from a dataset of labeled images.\n",
    "\n",
    "# Dataset\n",
    "<a id='Dataset'></a>\n",
    "This dataset consists of two image classes: cats and dogs, making it ideal for binary classification tasks in computer vision. The dataset can be effectively used to train models that distinguish between these two animal classes, providing a strong foundation for exploring deep learning applications in image recognition.<br>\n",
    "<br>\n",
    "The dataset contains a total of 14,000 images, with an equal distribution between cats and dogs. For training, there are 5,000 images of dogs and 5,000 images of cats, allowing the model to learn from a balanced set of examples. The remaining 4,000 images are reserved for testing, comprising 2,000 images of dogs and 2,000 images of cats. <br>\n",
    "<br>\n",
    "The link of the dataset \n",
    "<a href=\"https://www.kaggle.com/datasets/anthonytherrien/dog-vs-cat\">Dog vs Cat</a>"
   ]
  },
  {
   "cell_type": "code",
   "execution_count": 1,
   "id": "64184265-930a-469a-bbcc-03b260af3d14",
   "metadata": {},
   "outputs": [],
   "source": [
    "import torch\n",
    "import torch.nn as nn\n",
    "import torch.optim as optim\n",
    "import torchvision\n",
    "from torchvision import datasets, models, transforms\n",
    "from torch.utils.data import DataLoader\n",
    "import torch.nn.functional as F"
   ]
  },
  {
   "cell_type": "code",
   "execution_count": null,
   "id": "e960c11b-64e6-4ed8-95ff-fc7271e28bd3",
   "metadata": {},
   "outputs": [],
   "source": []
  }
 ],
 "metadata": {
  "kernelspec": {
   "display_name": "Python 3 (ipykernel)",
   "language": "python",
   "name": "python3"
  },
  "language_info": {
   "codemirror_mode": {
    "name": "ipython",
    "version": 3
   },
   "file_extension": ".py",
   "mimetype": "text/x-python",
   "name": "python",
   "nbconvert_exporter": "python",
   "pygments_lexer": "ipython3",
   "version": "3.8.19"
  }
 },
 "nbformat": 4,
 "nbformat_minor": 5
}
